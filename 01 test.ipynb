{
 "cells": [
  {
   "cell_type": "code",
   "execution_count": null,
   "metadata": {},
   "outputs": [],
   "source": [
    "#Source: Instruments & Data Tools\n",
    "#Inspired from the Vector Quantization Example\n",
    "\n",
    "from sklearn.cluster import KMeans, kmeans_plusplus\n",
    "from sklearn.preprocessing import MinMaxScaler\n",
    "from skimage.io import imread, imsave\n",
    "from skimage.color import rgb2gray\n",
    "import numpy as np\n",
    "import pandas as pd\n",
    "import matplotlib.pyplot as plt\n",
    "\n",
    "from util import transform_image_to_coordinates, transform_coordinates_to_image"
   ]
  },
  {
   "cell_type": "code",
   "execution_count": null,
   "metadata": {},
   "outputs": [],
   "source": [
    "# Read the data as greyscale \n",
    "img = imread('./data/input/carpet.webp')\n",
    "plt.imshow(img)"
   ]
  },
  {
   "cell_type": "code",
   "execution_count": null,
   "metadata": {},
   "outputs": [],
   "source": [
    "X = transform_image_to_coordinates(img)*[5.0,5.0,1.0,1.0,1.0]\n",
    "X[67845:67850]"
   ]
  },
  {
   "cell_type": "code",
   "execution_count": null,
   "metadata": {},
   "outputs": [],
   "source": [
    "\n",
    "scaler = MinMaxScaler((0,1)).fit(X)\n",
    "X = scaler.transform(X)\n",
    "\n",
    "clustering = KMeans(\n",
    "    n_clusters=300,\n",
    "    n_init=10,\n",
    "    init=\"random\"\n",
    ")\n",
    "clustering.fit(X)"
   ]
  },
  {
   "cell_type": "code",
   "execution_count": null,
   "metadata": {},
   "outputs": [],
   "source": [
    "pd.Series(clustering.labels_).value_counts().sort_index().plot()"
   ]
  },
  {
   "cell_type": "code",
   "execution_count": null,
   "metadata": {},
   "outputs": [],
   "source": [
    "pd.DataFrame(clustering.cluster_centers_,columns=[\"X\",\"Y\",\"R\",\"G\",\"B\"])"
   ]
  },
  {
   "cell_type": "code",
   "execution_count": null,
   "metadata": {},
   "outputs": [],
   "source": [
    "\n",
    "xy_coordinates = X[:,:2]/5.0\n",
    "labels = clustering.labels_\n",
    "color_pallet = clustering.cluster_centers_[:,2:]\n",
    "color_pallet.shape\n",
    "colors = color_pallet[labels]\n",
    "result_image = np.concatenate([xy_coordinates,colors], axis=1)\n",
    "\n",
    "result_image = scaler.inverse_transform(result_image)\n",
    "result_image = transform_coordinates_to_image(result_image)"
   ]
  },
  {
   "cell_type": "code",
   "execution_count": null,
   "metadata": {},
   "outputs": [],
   "source": [
    "fig,ax = plt.subplots()\n",
    "fig.set_size_inches(20,20)\n",
    "ax.imshow(np.round(result_image))"
   ]
  },
  {
   "cell_type": "code",
   "execution_count": null,
   "metadata": {},
   "outputs": [],
   "source": [
    "imsave(\"./data/output/out.png\",result_image)"
   ]
  },
  {
   "cell_type": "code",
   "execution_count": null,
   "metadata": {},
   "outputs": [],
   "source": []
  }
 ],
 "metadata": {
  "kernelspec": {
   "display_name": "Python 3",
   "language": "python",
   "name": "python3"
  },
  "language_info": {
   "codemirror_mode": {
    "name": "ipython",
    "version": 3
   },
   "file_extension": ".py",
   "mimetype": "text/x-python",
   "name": "python",
   "nbconvert_exporter": "python",
   "pygments_lexer": "ipython3",
   "version": "3.12.2"
  }
 },
 "nbformat": 4,
 "nbformat_minor": 2
}
