{
 "cells": [
  {
   "cell_type": "code",
   "execution_count": null,
   "metadata": {},
   "outputs": [],
   "source": [
    "#Source: Instruments & Data Tools\n",
    "#Inspired from the Vector Quantization Example\n",
    "\n",
    "from sklearn.cluster import KMeans, kmeans_plusplus\n",
    "from sklearn.preprocessing import MinMaxScaler\n",
    "from skimage.io import imread, imsave\n",
    "from skimage.segmentation import slic\n",
    "from skimage.color import rgb2gray, label2rgb\n",
    "import numpy as np\n",
    "import pandas as pd\n",
    "import matplotlib.pyplot as plt\n",
    "\n",
    "from util import transform_image_to_coordinates, transform_coordinates_to_image"
   ]
  },
  {
   "cell_type": "code",
   "execution_count": null,
   "metadata": {},
   "outputs": [],
   "source": [
    "# Read the data as greyscale \n",
    "#image = imread('./data/input/a4ca9877-c77b-4a8e-9d7a-aa621a7736fe.webp')\n",
    "image = imread('./data/input/carpet.webp')\n",
    "plt.imshow(image)"
   ]
  },
  {
   "cell_type": "code",
   "execution_count": null,
   "metadata": {},
   "outputs": [],
   "source": [
    "X = transform_image_to_coordinates(image)*[1.0,1.0,1.0,1.0,1.0]\n",
    "X[67845:67850]"
   ]
  },
  {
   "cell_type": "code",
   "execution_count": null,
   "metadata": {},
   "outputs": [],
   "source": [
    "# use slic to segment image; uses K-Means under the hood\n",
    "lables = slic(\n",
    "    image,\n",
    "    enforce_connectivity=False,\n",
    "    n_segments=200,\n",
    "    compactness=50\n",
    ")\n",
    "plt.imshow(label2rgb(lables, image))"
   ]
  },
  {
   "cell_type": "code",
   "execution_count": null,
   "metadata": {},
   "outputs": [],
   "source": [
    "group_lable, group_index, pixel_count  = np.unique(lables, return_inverse=True, return_counts=True)\n",
    "group_lable"
   ]
  },
  {
   "cell_type": "code",
   "execution_count": null,
   "metadata": {},
   "outputs": [],
   "source": [
    "pixel_sum = np.zeros([*group_lable.shape,3])\n",
    "np.add.at(\n",
    "    pixel_sum,\n",
    "    group_index,\n",
    "    image.reshape(-1,3)\n",
    ")\n",
    "# pixel_count = np.zeros(group_lable.shape)\n",
    "# np.add.at(\n",
    "#     pixel_count,\n",
    "#     group_index,\n",
    "#     1\n",
    "# )\n",
    "# pixel_average = pixel_sum / pixel_count.reshape(-1,1)\n",
    "pixel_average = np.round(pixel_sum/pixel_count.reshape(-1,1)).astype(\"u1\")"
   ]
  },
  {
   "cell_type": "code",
   "execution_count": null,
   "metadata": {},
   "outputs": [],
   "source": [
    "fig,axs = plt.subplots(1,2)\n",
    "fig.set_size_inches(10,10)\n",
    "axs[0].imshow(image)\n",
    "axs[1].imshow(pixel_average[group_index].reshape(image.shape))"
   ]
  },
  {
   "cell_type": "code",
   "execution_count": null,
   "metadata": {},
   "outputs": [],
   "source": [
    "\n",
    "scaler = MinMaxScaler((0,1)).fit(X)\n",
    "X      = scaler.transform(X)\n",
    "\n",
    "clustering = KMeans(\n",
    "    n_clusters = 100,\n",
    "    n_init     = 5,\n",
    "    init       = \"random\",\n",
    ")\n",
    "clustering.fit(X)"
   ]
  },
  {
   "cell_type": "code",
   "execution_count": null,
   "metadata": {},
   "outputs": [],
   "source": [
    "xy_coordinates = X[:,:2]\n",
    "labels         = clustering.labels_\n",
    "color_pallet   = clustering.cluster_centers_[:,2:]\n",
    "\n",
    "colors         = color_pallet[labels]\n",
    "result_image   = np.concatenate([xy_coordinates,colors], axis=1)\n",
    "\n",
    "result_image = scaler.inverse_transform(result_image)\n",
    "result_image = transform_coordinates_to_image(result_image)"
   ]
  },
  {
   "cell_type": "code",
   "execution_count": null,
   "metadata": {},
   "outputs": [],
   "source": [
    "fig,ax = plt.subplots()\n",
    "fig.set_size_inches(20,20)\n",
    "ax.imshow(np.round(result_image))"
   ]
  },
  {
   "cell_type": "code",
   "execution_count": null,
   "metadata": {},
   "outputs": [],
   "source": [
    "imsave(\"./data/output/out.png\",result_image)"
   ]
  },
  {
   "cell_type": "code",
   "execution_count": null,
   "metadata": {},
   "outputs": [],
   "source": []
  }
 ],
 "metadata": {
  "kernelspec": {
   "display_name": "Python 3",
   "language": "python",
   "name": "python3"
  },
  "language_info": {
   "codemirror_mode": {
    "name": "ipython",
    "version": 3
   },
   "file_extension": ".py",
   "mimetype": "text/x-python",
   "name": "python",
   "nbconvert_exporter": "python",
   "pygments_lexer": "ipython3",
   "version": "3.12.2"
  }
 },
 "nbformat": 4,
 "nbformat_minor": 2
}
