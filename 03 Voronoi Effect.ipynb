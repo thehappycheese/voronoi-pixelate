{
 "cells": [
  {
   "cell_type": "code",
   "execution_count": null,
   "metadata": {},
   "outputs": [],
   "source": [
    "import numpy as np\n",
    "import matplotlib.pyplot as plt\n",
    "\n",
    "from scipy.spatial import Voronoi, voronoi_plot_2d, KDTree\n",
    "from scipy.ndimage import map_coordinates\n",
    "\n",
    "from skimage.io import imread, imsave\n",
    "from skimage import feature, filters, measure\n",
    "from skimage.color import rgb2gray\n",
    "from skimage.filters.rank import gradient\n",
    "from skimage.transform import rescale, rotate\n",
    "from skimage.util import crop\n",
    "from matplotlib import pyplot as plt\n",
    "from matplotlib.pyplot import Axes"
   ]
  },
  {
   "cell_type": "code",
   "execution_count": null,
   "metadata": {},
   "outputs": [],
   "source": [
    "#image = imread(\"./data/input/42501f8a-5015-41e2-a87b-2980df8237a4.webp\")/255.0\n",
    "#image = imread(\"./data/input/a4ca9877-c77b-4a8e-9d7a-aa621a7736fe.webp\")/255.0\n",
    "#image = imread(\"./data/input/pexels-photo-2382325.jpeg\")/255.0\n",
    "image = imread(\"./data/input/1c7cy8.jpg\")/255.0\n",
    "# image = imread(\"./data/input/carpet.webp\")\n",
    "# image = imread(\"./data/input/abstract-pattern-in-dark-pastel-tones-purple-background-and-green-blue-and-pink-spirals-vector.jpg\")\n",
    "#image = imread(\"./data/input/Cge6pcFRQLmteLQyGiIznQ.webp\")\n",
    "#image = rotate(image,90, resize=True)\n",
    "\n",
    "image = crop(image,[(100,400),(500,300),(0,0)])\n",
    "plt.imshow(image)"
   ]
  },
  {
   "cell_type": "code",
   "execution_count": null,
   "metadata": {},
   "outputs": [],
   "source": [
    "# image_width, image_height, _ = image.shape\n",
    "NUMBER_OF_POINTS = 8000"
   ]
  },
  {
   "cell_type": "code",
   "execution_count": null,
   "metadata": {},
   "outputs": [],
   "source": [
    "def draw_simulated_points(ax: Axes, heightmap: np.ndarray, points_xy: np.ndarray, show_voronoi=False):\n",
    "    ax.imshow(heightmap)\n",
    "    ax.scatter(x=points_xy[:, 1], y=points_xy[:, 0], s=0.2, c=\"red\")\n",
    "    if show_voronoi:\n",
    "        voronoi_plot_2d(\n",
    "            Voronoi(points_xy[:,::-1]),\n",
    "            ax=ax,\n",
    "            show_vertices=False,\n",
    "            show_points=False,\n",
    "            line_colors='red',\n",
    "            line_alpha=0.5,\n",
    "            line_width=0.8,\n",
    "            point_size=0.2,\n",
    "        )\n",
    "    ax.set_xlim((0, heightmap.shape[1]))  # width\n",
    "    ax.set_ylim((0, heightmap.shape[0]))  # height\n",
    "    ax.axis(\"off\")\n",
    "    ax.invert_yaxis()\n",
    "    return ax"
   ]
  },
  {
   "cell_type": "code",
   "execution_count": null,
   "metadata": {},
   "outputs": [],
   "source": [
    "def draw_plain_image(ax:Axes, image:np.ndarray):\n",
    "    ax.imshow(image)\n",
    "    ax.axis(\"off\")\n",
    "    ax.set_xlim([0, image.shape[1]])\n",
    "    ax.set_ylim([0, image.shape[0]])\n",
    "    ax.invert_yaxis()"
   ]
  },
  {
   "cell_type": "code",
   "execution_count": null,
   "metadata": {},
   "outputs": [],
   "source": [
    "def adjust_points_via_forcefield_kdtree(points, force_field_x, force_field_y, iterations=30, force_multiplier=50, repulsion_multiplier=10, kd_tree_update_freq=5, kd_tree_query_radius=50):\n",
    "    \"\"\"\n",
    "    Adjusts points based on a simulated force field and KD Tree for efficient nearest neighbor search.\n",
    "    \n",
    "    Parameters:\n",
    "    - points: numpy.ndarray, the original points as an Nx2 array.\n",
    "    - force_field_x: numpy.ndarray, the x component of the force field.\n",
    "    - force_field_y: numpy.ndarray, the y component of the force field.\n",
    "    - iterations: int, number of iterations to apply the force field adjustments.\n",
    "    - force_multiplier: float, multiplier for the force field effect.\n",
    "    - repulsion_multiplier: float, multiplier for the repulsion effect.\n",
    "    - kd_tree_update_freq: int, frequency of KD tree rebuilds per iteration.\n",
    "    \n",
    "    Returns:\n",
    "    - numpy.ndarray, the adjusted points.\n",
    "    \"\"\"\n",
    "    voronoi_point_xy = points.copy()\n",
    "    kd_tree = KDTree(voronoi_point_xy)  # Initial KD tree build\n",
    "\n",
    "    for iteration in range(iterations):\n",
    "        # Rebuild KD tree periodically to accommodate for moved points\n",
    "        if iteration % kd_tree_update_freq == 0:\n",
    "            kd_tree = KDTree(voronoi_point_xy)\n",
    "\n",
    "        force_x = map_coordinates(force_field_x, voronoi_point_xy.transpose())\n",
    "        force_y = map_coordinates(force_field_y, voronoi_point_xy.transpose())\n",
    "        \n",
    "        # Use KD tree to find points within a certain radius\n",
    "        # This radius should be chosen based on your dataset and the expected repulsion range\n",
    "        \n",
    "        neighbors_list = kd_tree.query_ball_point(voronoi_point_xy, r=kd_tree_query_radius)\n",
    "\n",
    "        repulsion_vectors = np.zeros_like(voronoi_point_xy)\n",
    "        for i, neighbors in enumerate(neighbors_list):\n",
    "            if neighbors:\n",
    "                diff = voronoi_point_xy[i] - voronoi_point_xy[neighbors]\n",
    "                dist_squared = np.sum(diff ** 2, axis=1)\n",
    "                epsilon = 1e-5\n",
    "                repulsion_strength = 1 / (dist_squared + epsilon)\n",
    "                repulsion_vectors[i] = np.sum(diff * repulsion_strength[:, None] / np.sqrt(dist_squared + epsilon)[:, None], axis=0)\n",
    "\n",
    "        # Apply the forces\n",
    "        voronoi_point_xy += np.stack([force_x, force_y], axis=-1) * force_multiplier + repulsion_vectors * repulsion_multiplier\n",
    "\n",
    "    return voronoi_point_xy"
   ]
  },
  {
   "cell_type": "code",
   "execution_count": null,
   "metadata": {},
   "outputs": [],
   "source": [
    "def voronoi_pixelate(image, points, upscale_factor=1):\n",
    "    \"\"\"\n",
    "    Computes the average color of Voronoi cells in an image based on a set of points and upscales the result.\n",
    "    \n",
    "    Parameters:\n",
    "    - image: numpy.ndarray, the input image as an array of shape (height, width, 3).\n",
    "    - points: numpy.ndarray, the original points defining Voronoi cells as an Nx2 array.\n",
    "    - upscale_factor: int, the factor by which to upscale the image (default is 1, which means no scaling).\n",
    "    \n",
    "    Returns:\n",
    "    - numpy.ndarray, the upscaled image where each pixel's color is the average color of its Voronoi cell.\n",
    "    \"\"\"\n",
    "    # Upscale the image if needed\n",
    "    if upscale_factor != 1:\n",
    "        image_upscaled = rescale(image, (upscale_factor, upscale_factor, 1), anti_aliasing=True)\n",
    "    else:\n",
    "        image_upscaled = image\n",
    "\n",
    "    # Build a KDTree from the points\n",
    "    tree = KDTree(points)\n",
    "\n",
    "    # Generate grid for upscaled image and adjust for the upscale\n",
    "    x_upscaled, y_upscaled = np.meshgrid(range(image.shape[1] * upscale_factor), range(image.shape[0] * upscale_factor))\n",
    "    yx_indexes_flat_upscaled = np.stack([y_upscaled.flatten(), x_upscaled.flatten()], axis=-1) \n",
    "\n",
    "    # Query the KDTree, adjusting for the upscale\n",
    "    _, upscaled_group_index = tree.query(yx_indexes_flat_upscaled / upscale_factor)\n",
    "\n",
    "    # Find unique groups and their indexes in the upscaled image\n",
    "    upscaled_unique_groups, upscaled_unique_groups_indexes = np.unique(upscaled_group_index, return_inverse=True)\n",
    "\n",
    "    # Initialize arrays for total pixel colors and counts in the upscaled image\n",
    "    total_pixel_colors = np.zeros((*upscaled_unique_groups.shape, 3))\n",
    "    total_pixel_counts = np.zeros(upscaled_unique_groups.shape)\n",
    "\n",
    "    # Sum colors and counts for each group\n",
    "    np.add.at(total_pixel_colors, upscaled_unique_groups_indexes, image_upscaled.reshape(-1, 3))\n",
    "    np.add.at(total_pixel_counts, upscaled_unique_groups_indexes, 1)\n",
    "\n",
    "    # Compute the average color for each group\n",
    "    average_color = total_pixel_colors / total_pixel_counts.reshape(-1, 1)\n",
    "\n",
    "    # Assign the average color back to the pixels based on their group in the upscaled image\n",
    "    upscaled_pixel_values = average_color[upscaled_unique_groups_indexes].reshape((image.shape[0] * upscale_factor, image.shape[1] * upscale_factor, 3))\n",
    "\n",
    "    return upscaled_pixel_values"
   ]
  },
  {
   "cell_type": "code",
   "execution_count": null,
   "metadata": {},
   "outputs": [],
   "source": [
    "\n",
    "\n",
    "# Ensure the input image is grayscale for the force field computation\n",
    "simulated_heightmap = filters.difference_of_gaussians(rgb2gray(image), low_sigma=6)\n",
    "\n",
    "# Compute the gradient (force field) of the height map\n",
    "fx = filters.sobel_h(simulated_heightmap)\n",
    "fy = filters.sobel_v(simulated_heightmap)\n",
    "\n",
    "plt.imshow(simulated_heightmap)"
   ]
  },
  {
   "cell_type": "code",
   "execution_count": null,
   "metadata": {},
   "outputs": [],
   "source": [
    "points = np.random.normal(loc=[0.4,0.3], scale=[0.4,0.4], size=[NUMBER_OF_POINTS*5,2])\n",
    "points = points[np.bitwise_and.reduce((points>0) & (points<1),axis=-1)]\n",
    "points = points[np.random.choice(points.shape[0], size=NUMBER_OF_POINTS, replace=False)]\n",
    "ax = plt.scatter(x=points[:,1],y=1-points[:,0])\n",
    "points.shape"
   ]
  },
  {
   "cell_type": "code",
   "execution_count": null,
   "metadata": {},
   "outputs": [],
   "source": [
    "\n",
    "#voronoi_point_xy_original = np.random.rand(NUMBER_OF_POINTS, 2) * np.array(image.shape[:2])\n",
    "voronoi_point_xy_original = points * np.array(image.shape[:2])\n",
    "\n",
    "voronoi_point_xy_light_seekers, voronoi_point_xy_dark_seekers = np.array_split(voronoi_point_xy_original,2)\n",
    "\n",
    "\n",
    "# run main simulation to redistribute points:\n",
    "voronoi_point_xy_light_seekers = adjust_points_via_forcefield_kdtree(voronoi_point_xy_light_seekers,iterations=100, force_field_x=fx, force_field_y=fy, force_multiplier= 100, repulsion_multiplier=10)\n",
    "voronoi_point_xy_dark_seekers  = adjust_points_via_forcefield_kdtree(voronoi_point_xy_dark_seekers ,iterations=100, force_field_x=fx, force_field_y=fy, force_multiplier=-100, repulsion_multiplier=10)\n",
    "\n",
    "\n",
    "voronoi_point_xy = np.concatenate([\n",
    "    voronoi_point_xy_light_seekers,\n",
    "    voronoi_point_xy_dark_seekers\n",
    "])\n",
    "adjust_points_via_forcefield_kdtree(voronoi_point_xy,iterations=3, force_field_x=fx, force_field_y=fy, force_multiplier=2, repulsion_multiplier=50)"
   ]
  },
  {
   "cell_type": "code",
   "execution_count": null,
   "metadata": {},
   "outputs": [],
   "source": [
    "ordinary_new_image = voronoi_pixelate(image, voronoi_point_xy_original)\n",
    "special_new_image = voronoi_pixelate(image, voronoi_point_xy)"
   ]
  },
  {
   "cell_type": "code",
   "execution_count": null,
   "metadata": {},
   "outputs": [],
   "source": [
    "fig, axs = plt.subplots(2,2)\n",
    "axs = axs.flatten()\n",
    "\n",
    "# original Image, with original points\n",
    "axs[0].set_title(\"Original Image with Random Points\")\n",
    "draw_simulated_points(axs[0], image, voronoi_point_xy_original,show_voronoi=True)\n",
    "#draw_simulated_points(axs[1], simulated_heightmap, voronoi_point_xy, show_voronoi=True)\n",
    "axs[1].set_title(\"Poor Voronoi Pixelation  effect\")\n",
    "draw_plain_image(axs[1],ordinary_new_image)\n",
    "\n",
    "\n",
    "#draw_simulated_points(axs[0], image, voronoi_point_xy_original)\n",
    "axs[2].set_title(\"Sobel with point movement simulation\")\n",
    "draw_simulated_points(axs[2], simulated_heightmap, voronoi_point_xy, show_voronoi=True)\n",
    "draw_plain_image(axs[3],special_new_image)\n",
    "axs[3].set_title(\"Improved Voronoi Pixelation Effect\")\n",
    "\n",
    "fig.set_figheight(13)\n",
    "fig.set_figwidth(20)\n",
    "plt.tight_layout()"
   ]
  },
  {
   "cell_type": "code",
   "execution_count": null,
   "metadata": {},
   "outputs": [],
   "source": [
    "upscaled = voronoi_pixelate(image,voronoi_point_xy_original,upscale_factor=4)\n",
    "imsave(\"./data/output/ficus_leaves_other.jpg\",(upscaled*255).astype(\"u1\"))\n",
    "plt.imshow(upscaled)"
   ]
  },
  {
   "cell_type": "code",
   "execution_count": null,
   "metadata": {},
   "outputs": [],
   "source": [
    "upscaled = voronoi_pixelate(image,voronoi_point_xy,upscale_factor=4)\n",
    "imsave(\"./data/output/ficus_leaves.png\",(upscaled*255).astype(\"u1\"))\n",
    "plt.imshow(upscaled)"
   ]
  },
  {
   "cell_type": "code",
   "execution_count": null,
   "metadata": {},
   "outputs": [],
   "source": []
  }
 ],
 "metadata": {
  "kernelspec": {
   "display_name": "Python 3",
   "language": "python",
   "name": "python3"
  },
  "language_info": {
   "codemirror_mode": {
    "name": "ipython",
    "version": 3
   },
   "file_extension": ".py",
   "mimetype": "text/x-python",
   "name": "python",
   "nbconvert_exporter": "python",
   "pygments_lexer": "ipython3",
   "version": "3.12.2"
  }
 },
 "nbformat": 4,
 "nbformat_minor": 2
}
