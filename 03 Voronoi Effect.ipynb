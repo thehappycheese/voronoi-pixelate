{
 "cells": [
  {
   "cell_type": "code",
   "execution_count": null,
   "metadata": {},
   "outputs": [],
   "source": [
    "import numpy as np\n",
    "import matplotlib.pyplot as plt\n",
    "\n",
    "from scipy.spatial import Voronoi, voronoi_plot_2d, KDTree\n",
    "from scipy.ndimage import map_coordinates\n",
    "\n",
    "from skimage.io import imread, imsave\n",
    "from skimage import feature, filters, measure\n",
    "from skimage.color import rgb2gray\n",
    "from skimage.filters.rank import gradient\n",
    "from skimage.transform import rescale, rotate\n",
    "from matplotlib import pyplot as plt\n",
    "from matplotlib.pyplot import Axes"
   ]
  },
  {
   "cell_type": "code",
   "execution_count": null,
   "metadata": {},
   "outputs": [],
   "source": [
    "#image = imread(\"./data/input/42501f8a-5015-41e2-a87b-2980df8237a4.webp\")/255.0\n",
    "image = imread(\"./data/input/a4ca9877-c77b-4a8e-9d7a-aa621a7736fe.webp\")/255.0\n",
    "# image = imread(\"./data/input/carpet.webp\")\n",
    "# image = imread(\"./data/input/abstract-pattern-in-dark-pastel-tones-purple-background-and-green-blue-and-pink-spirals-vector.jpg\")\n",
    "#image = imread(\"./data/input/Cge6pcFRQLmteLQyGiIznQ.webp\")\n",
    "#image = rotate(image,90, resize=True)\n",
    "plt.imshow(image)"
   ]
  },
  {
   "cell_type": "code",
   "execution_count": null,
   "metadata": {},
   "outputs": [],
   "source": [
    "# image_width, image_height, _ = image.shape\n",
    "NUMBER_OF_POINTS = 8000"
   ]
  },
  {
   "cell_type": "code",
   "execution_count": null,
   "metadata": {},
   "outputs": [],
   "source": [
    "def draw_simulated_points(ax: Axes, heightmap: np.ndarray, points_xy: np.ndarray, show_voronoi=False):\n",
    "    ax.imshow(heightmap)\n",
    "    ax.scatter(x=points_xy[:, 1], y=points_xy[:, 0], s=0.4, c=\"red\")\n",
    "    if show_voronoi:\n",
    "        voronoi_plot_2d(\n",
    "            Voronoi(points_xy[:,::-1]),\n",
    "            ax=ax,\n",
    "            show_vertices=False,\n",
    "            show_points=False,\n",
    "            line_colors='red',\n",
    "            line_alpha=0.5,\n",
    "        )\n",
    "    ax.set_xlim((0, heightmap.shape[1]))  # width\n",
    "    ax.set_ylim((0, heightmap.shape[0]))  # height\n",
    "    ax.axis(\"off\")\n",
    "    ax.invert_yaxis()\n",
    "    return ax"
   ]
  },
  {
   "cell_type": "code",
   "execution_count": null,
   "metadata": {},
   "outputs": [],
   "source": [
    "def adjust_points_via_forcefield(points, force_field_x, force_field_y, iterations=30, force_multiplier=50, repulsion_multiplier=10):\n",
    "    \"\"\"\n",
    "    Adjusts points based on a simulated force field derived from an image.\n",
    "\n",
    "    Parameters:\n",
    "    - points: numpy.ndarray, the original points as an Nx2 array.\n",
    "    - image: numpy.ndarray, the image used to compute the force field.\n",
    "    - direction: str, 'up' to move points up the force field, 'down' to move them down.\n",
    "    - iterations: int, number of iterations to apply the force field adjustments.\n",
    "    - force_multiplier: float, multiplier for the force field effect.\n",
    "    - repulsion_multiplier: float, multiplier for the repulsion effect.\n",
    "\n",
    "    Returns:\n",
    "    - numpy.ndarray, the adjusted points.\n",
    "    \"\"\"\n",
    "    \n",
    "    \n",
    "    # Initialize points\n",
    "    voronoi_point_xy = points.copy()\n",
    "\n",
    "    for iteration in range(iterations):\n",
    "        force_x = map_coordinates(force_field_x, voronoi_point_xy.transpose())\n",
    "        force_y = map_coordinates(force_field_y, voronoi_point_xy.transpose())\n",
    "        \n",
    "        \n",
    "        # Compute pairwise differences and repulsion forces as before\n",
    "        diff = voronoi_point_xy[:, None, :] - voronoi_point_xy[None, :, :]\n",
    "        dist_squared = np.sum(diff ** 2, axis=2)\n",
    "        epsilon = 1e-5\n",
    "        repulsion_strength = 1 / (dist_squared + epsilon)\n",
    "        repulsion_strength[range(len(points)), range(len(points))] = 0\n",
    "        repulsion_vectors = np.sum(diff * repulsion_strength[:, :, None] / np.sqrt(dist_squared + epsilon)[:, :, None], axis=1)\n",
    "        \n",
    "        # Apply the forces\n",
    "        voronoi_point_xy += np.stack([force_x, force_y], axis=-1) * force_multiplier + repulsion_vectors * repulsion_multiplier\n",
    "    \n",
    "    return voronoi_point_xy"
   ]
  },
  {
   "cell_type": "code",
   "execution_count": null,
   "metadata": {},
   "outputs": [],
   "source": [
    "voronoi_point_xy_original = np.random.rand(NUMBER_OF_POINTS, 2) * np.array(image.shape[:2])\n",
    "voronoi_point_xy_light_seekers, voronoi_point_xy_dark_seekers = np.array_split(voronoi_point_xy_original,2)\n",
    "\n",
    "# Ensure the input image is grayscale for the force field computation\n",
    "simulated_heightmap = filters.difference_of_gaussians(rgb2gray(image), low_sigma=8)\n",
    "# plt.imshow(simulated_heightmap)\n",
    "\n",
    "# Compute the gradient (force field) of the height map\n",
    "fx = filters.sobel_h(simulated_heightmap)\n",
    "fy = filters.sobel_v(simulated_heightmap)\n",
    "#force_field = np.stack([fx, fy], axis=-1)\n",
    "\n",
    "voronoi_point_xy = np.concatenate([\n",
    "    adjust_points_via_forcefield(voronoi_point_xy_light_seekers,iterations=30, force_field_x=fx, force_field_y=fy, force_multiplier= 80, repulsion_multiplier=20),\n",
    "    adjust_points_via_forcefield(voronoi_point_xy_dark_seekers ,iterations=30, force_field_x=fx, force_field_y=fy, force_multiplier=-80, repulsion_multiplier=20),\n",
    "])\n",
    "#voronoi_point_xy = voronoi_point_xy_original\n",
    "\n",
    "tree = KDTree(voronoi_point_xy)\n",
    "\n",
    "x, y = np.meshgrid(range(image.shape[1]), range(image.shape[0]))\n",
    "yx_indexes_flat = np.stack([y.flatten(), x.flatten()],axis=-1)\n",
    "\n",
    "_, group_index = tree.query(yx_indexes_flat)\n",
    "\n",
    "unique_groups, unique_groups_indexes = np.unique(group_index, return_inverse=True)\n",
    "\n",
    "total_pixel_colors = np.zeros((*unique_groups.shape,3))\n",
    "np.add.at(\n",
    "    total_pixel_colors,\n",
    "    unique_groups_indexes,\n",
    "    image.reshape(-1,3)\n",
    ")\n",
    "total_pixel_counts = np.zeros(unique_groups.shape)\n",
    "np.add.at(\n",
    "    total_pixel_counts,\n",
    "    unique_groups_indexes,\n",
    "    1,\n",
    ")\n",
    "\n",
    "average_color = total_pixel_colors / total_pixel_counts.reshape(-1,1)\n",
    "new_pixel_values = average_color[unique_groups_indexes].reshape(image.shape)"
   ]
  },
  {
   "cell_type": "code",
   "execution_count": null,
   "metadata": {},
   "outputs": [],
   "source": [
    "fig, axs = plt.subplots(1,3)\n",
    "draw_simulated_points(axs[0], image, voronoi_point_xy_original)\n",
    "draw_simulated_points(axs[1], simulated_heightmap, voronoi_point_xy, show_voronoi=True)\n",
    "axs[2].imshow(new_pixel_values)\n",
    "axs[2].axis(\"off\")\n",
    "axs[2].set_xlim([0, new_pixel_values.shape[1]])\n",
    "axs[2].set_ylim([0, new_pixel_values.shape[0]])\n",
    "axs[2].invert_yaxis()\n",
    "fig.set_size_inches(20,20)\n",
    "plt.tight_layout()"
   ]
  },
  {
   "cell_type": "code",
   "execution_count": null,
   "metadata": {},
   "outputs": [],
   "source": [
    "fig, axs = plt.subplots(1,2)\n",
    "draw_simulated_points(axs[0], image, voronoi_point_xy_original)\n",
    "#draw_simulated_points(axs[1], simulated_heightmap, voronoi_point_xy, show_voronoi=True)\n",
    "axs[1].imshow(new_pixel_values)\n",
    "axs[1].axis(\"off\")\n",
    "axs[1].set_xlim([0, new_pixel_values.shape[1]])\n",
    "axs[1].set_ylim([0, new_pixel_values.shape[0]])\n",
    "axs[1].invert_yaxis()\n",
    "fig.set_size_inches(10,20)\n",
    "plt.tight_layout()"
   ]
  },
  {
   "cell_type": "code",
   "execution_count": null,
   "metadata": {},
   "outputs": [],
   "source": [
    "\n",
    "UPSCALE_FACTOR = 4  # Specify your desired upscale factor here\n",
    "\n",
    "# Generate grid for upscaled image\n",
    "x_upscaled, y_upscaled = np.meshgrid(range(image.shape[1]*UPSCALE_FACTOR), range(image.shape[0]*UPSCALE_FACTOR))\n",
    "yx_indexes_flat_upscaled = np.stack([y_upscaled.flatten(), x_upscaled.flatten()], axis=-1) \n",
    "\n",
    "_, upscaled_group_index = tree.query(yx_indexes_flat_upscaled / UPSCALE_FACTOR)\n",
    "\n",
    "upscaled_unique_groups, upscaled_unique_groups_indexes = np.unique(upscaled_group_index, return_inverse=True)\n",
    "\n",
    "\n",
    "total_pixel_colors = np.zeros((*upscaled_unique_groups.shape,3))\n",
    "np.add.at(\n",
    "    total_pixel_colors,\n",
    "    upscaled_unique_groups_indexes,\n",
    "    rescale(image,(UPSCALE_FACTOR,UPSCALE_FACTOR,1)).reshape(-1,3)\n",
    ")\n",
    "total_pixel_counts = np.zeros(upscaled_unique_groups.shape)\n",
    "np.add.at(\n",
    "    total_pixel_counts,\n",
    "    upscaled_unique_groups_indexes,\n",
    "    1,\n",
    ")\n",
    "\n",
    "average_color = total_pixel_colors / total_pixel_counts.reshape(-1,1)\n",
    "\n",
    "\n",
    "# Map the upscaled pixels to their corresponding Voronoi regions to get colors\n",
    "#TODO the clip here restricts to square images because it does nto clip the y axis properly\n",
    "upscaled_pixel_values = average_color[upscaled_unique_groups_indexes].reshape((image.shape[0]*UPSCALE_FACTOR, image.shape[1]*UPSCALE_FACTOR, 3))\n",
    "\n",
    "# `upscaled_pixel_values` is now the upscaled image with colors sampled from the original image's Voronoi regions"
   ]
  },
  {
   "cell_type": "code",
   "execution_count": null,
   "metadata": {},
   "outputs": [],
   "source": [
    "upscaled_pixel_values.shape"
   ]
  },
  {
   "cell_type": "code",
   "execution_count": null,
   "metadata": {},
   "outputs": [],
   "source": [
    "image.shape"
   ]
  },
  {
   "cell_type": "code",
   "execution_count": null,
   "metadata": {},
   "outputs": [],
   "source": [
    "fig,axs = plt.subplots(1,2)\n",
    "axs[0].imshow(image)\n",
    "voronoi_plot_2d(\n",
    "    Voronoi(voronoi_point_xy[:,::-1]),\n",
    "    ax=axs[0],\n",
    "    show_vertices=False,\n",
    "    show_points=False,\n",
    "    line_colors='red',\n",
    ")\n",
    "axs[1].imshow(upscaled_pixel_values)\n",
    "\n",
    "for ax in axs:\n",
    "    #ax.axis(\"off\")\n",
    "    ax.set_aspect('equal')\n",
    "    ax.set_xlim([0, image.shape[1]])\n",
    "    ax.set_ylim([0, image.shape[0]])\n",
    "axs[1].set_xlim([0, image.shape[1]*UPSCALE_FACTOR])\n",
    "axs[1].set_ylim([0, image.shape[0]*UPSCALE_FACTOR])\n",
    "axs[0].invert_yaxis()\n",
    "axs[1].invert_yaxis()\n",
    "fig.set_size_inches(30,20)"
   ]
  },
  {
   "cell_type": "code",
   "execution_count": null,
   "metadata": {},
   "outputs": [],
   "source": [
    "#imsave(\"./data/output/bark_upscaled_2.png\", np.round(upscaled_pixel_values*255).astype(\"u1\"))"
   ]
  },
  {
   "cell_type": "code",
   "execution_count": null,
   "metadata": {},
   "outputs": [],
   "source": []
  }
 ],
 "metadata": {
  "kernelspec": {
   "display_name": "Python 3",
   "language": "python",
   "name": "python3"
  },
  "language_info": {
   "codemirror_mode": {
    "name": "ipython",
    "version": 3
   },
   "file_extension": ".py",
   "mimetype": "text/x-python",
   "name": "python",
   "nbconvert_exporter": "python",
   "pygments_lexer": "ipython3",
   "version": "3.12.2"
  }
 },
 "nbformat": 4,
 "nbformat_minor": 2
}
