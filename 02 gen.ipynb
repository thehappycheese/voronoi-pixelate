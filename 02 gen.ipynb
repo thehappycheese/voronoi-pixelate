{
 "cells": [
  {
   "cell_type": "code",
   "execution_count": null,
   "metadata": {},
   "outputs": [],
   "source": [
    "from IPython.display import SVG\n",
    "from xml.dom.minidom import parse, parseString\n",
    "import numpy as np\n",
    "import pandas as pd\n",
    "from scipy.stats import alpha\n",
    "import matplotlib.pyplot as plt"
   ]
  },
  {
   "cell_type": "code",
   "execution_count": null,
   "metadata": {},
   "outputs": [],
   "source": [
    "\n",
    "fig, ax = plt.subplots()\n",
    "a = 3\n",
    "x = np.linspace(\n",
    "    alpha.ppf(0.01, a),\n",
    "    alpha.ppf(0.99, a),\n",
    "    100\n",
    ")\n",
    "\n",
    "ax.plot(\n",
    "    x,\n",
    "    alpha.pdf(x, a),\n",
    "    'r-',\n",
    "    lw=5,\n",
    "    alpha=0.6,\n",
    "    label='alpha pdf',\n",
    "    \n",
    ")\n",
    "ax.set_xlim(0,1)"
   ]
  },
  {
   "cell_type": "code",
   "execution_count": null,
   "metadata": {},
   "outputs": [],
   "source": []
  },
  {
   "cell_type": "code",
   "execution_count": null,
   "metadata": {},
   "outputs": [],
   "source": [
    "pallet = [\n",
    "    \"#315672\", # dark blue\n",
    "    \"#46779b\", # light blue\n",
    "    \"#ff8f85\", # salmon\n",
    "    \"#ffc169\", # wheat\n",
    "    \"#257072\", # pond\n",
    "    \"#794753\", # wet red clay\n",
    "    \"#fefae7\", # white\n",
    "]"
   ]
  },
  {
   "cell_type": "code",
   "execution_count": null,
   "metadata": {},
   "outputs": [],
   "source": [
    "WIDTH = 2560\n",
    "HEIGHT = 1440"
   ]
  },
  {
   "cell_type": "code",
   "execution_count": null,
   "metadata": {},
   "outputs": [],
   "source": [
    "dom = parseString('<svg xmlns=\"http://www.w3.org/2000/svg\"></svg>')\n",
    "root = dom.childNodes[0]\n",
    "root.setAttribute(\"viewBox\",f\"0 0 {WIDTH} {HEIGHT}\")\n",
    "root.setAttribute(\"style\",\"background-color:000000;\")\n",
    "group = dom.createElement(\"g\")\n",
    "root.appendChild(group)\n",
    "#SVG(dom.toprettyxml())"
   ]
  },
  {
   "cell_type": "code",
   "execution_count": null,
   "metadata": {},
   "outputs": [],
   "source": [
    "def segment(a,b,color=\"red\"):\n",
    "    path = dom.createElement(\"path\")\n",
    "    path.setAttribute(\"d\",f\"M{a[0]} {a[1]} L {b[0]} {b[1]}\")\n",
    "    path.setAttribute(\n",
    "        \"style\",\n",
    "        f\"stroke:{color};\"\n",
    "        \"stroke-linecap:round;\"\n",
    "        \"stroke-linejoin:round;\"\n",
    "        \"stroke-width:15;\"\n",
    "    )\n",
    "    return path"
   ]
  },
  {
   "cell_type": "code",
   "execution_count": null,
   "metadata": {},
   "outputs": [],
   "source": [
    "pd.Series(line_lengths).plot.hist()"
   ]
  },
  {
   "cell_type": "code",
   "execution_count": null,
   "metadata": {},
   "outputs": [],
   "source": [
    "for child in [*group.childNodes]:\n",
    "    group.removeChild(child)\n",
    "\n",
    "OUTER_MARGIN = 30\n",
    "MAX_LINE_LENGTH = 150\n",
    "MIN_LINE_LENGTH = 10\n",
    "LINE_GAP = 80\n",
    "\n",
    "y_gaps = (\n",
    "     MIN_LINE_LENGTH\n",
    "        + alpha.rvs(3, size=60)\n",
    "        * (\n",
    "            MAX_LINE_LENGTH - MIN_LINE_LENGTH\n",
    "        )\n",
    ")\n",
    "oy = 100\n",
    "for y_gap in y_gaps:\n",
    "    ox = -OUTER_MARGIN\n",
    "    line_lengths = (\n",
    "        MIN_LINE_LENGTH\n",
    "        + alpha.rvs(3, size=60)\n",
    "        * (\n",
    "            MAX_LINE_LENGTH - MIN_LINE_LENGTH\n",
    "        )\n",
    "    )\n",
    "    for line_length in line_lengths:\n",
    "        if ox>WIDTH+OUTER_MARGIN:\n",
    "            break\n",
    "        group.appendChild(segment(\n",
    "            [ox            ,oy],\n",
    "            [ox+line_length,oy],\n",
    "            color=pallet[np.random.randint(0,len(pallet))]\n",
    "        ))\n",
    "        ox+=line_length+LINE_GAP\n",
    "    oy+=y_gap\n",
    "    if oy > HEIGHT+OUTER_MARGIN:\n",
    "         break\n",
    "SVG(dom.toprettyxml())"
   ]
  },
  {
   "cell_type": "code",
   "execution_count": null,
   "metadata": {},
   "outputs": [],
   "source": [
    "with open(\"./data/output/out.svg\",\"w\") as f:\n",
    "    f.write(dom.toprettyxml())"
   ]
  },
  {
   "cell_type": "code",
   "execution_count": null,
   "metadata": {},
   "outputs": [],
   "source": []
  }
 ],
 "metadata": {
  "kernelspec": {
   "display_name": "Python 3",
   "language": "python",
   "name": "python3"
  },
  "language_info": {
   "codemirror_mode": {
    "name": "ipython",
    "version": 3
   },
   "file_extension": ".py",
   "mimetype": "text/x-python",
   "name": "python",
   "nbconvert_exporter": "python",
   "pygments_lexer": "ipython3",
   "version": "3.12.2"
  }
 },
 "nbformat": 4,
 "nbformat_minor": 2
}
